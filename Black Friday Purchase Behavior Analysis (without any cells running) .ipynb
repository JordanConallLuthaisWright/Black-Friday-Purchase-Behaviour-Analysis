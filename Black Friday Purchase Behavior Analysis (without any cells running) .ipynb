{
 "cells": [
  {
   "cell_type": "markdown",
   "id": "a367e452-feb0-491a-a1ff-780fa740d067",
   "metadata": {},
   "source": [
    "# Business Data Analysis \n",
    "## Company XYZ Objective\n",
    "This notebook aims to analyze customer purchase behavior, specifically focusing on purchase amounts in relation to gender and other influencing factors. The goal is to help Company XYZ make data-driven decisions by understanding if spending habits differ between male and female customers. The key question is:\n",
    "Do women spend more on Black Friday than men?\n",
    "\n"
   ]
  },
  {
   "cell_type": "markdown",
   "id": "3fd79a4a-ed22-4749-aa27-20dace945742",
   "metadata": {},
   "source": [
    "#### 1. Exploratory Data Analysis "
   ]
  },
  {
   "cell_type": "code",
   "execution_count": 1,
   "id": "4d784ded-f989-41cb-95bb-6e021f283b81",
   "metadata": {},
   "outputs": [],
   "source": [
    "import numpy as np\n",
    "import pandas as pd\n",
    "import matplotlib.pyplot as plt\n",
    "%matplotlib inline\n",
    "import seaborn as sns\n",
    "sns.set(color_codes = True)\n",
    "import scipy.stats as stats\n",
    "from scipy.stats import norm\n",
    "import warnings\n",
    "warnings.filterwarnings(\"ignore\")"
   ]
  },
  {
   "cell_type": "code",
   "execution_count": 2,
   "id": "acd86739-def8-45e7-b534-f4d90dec549f",
   "metadata": {},
   "outputs": [],
   "source": [
    "XYZ_df = pd.read_csv(\"XYZ_data.csv\")"
   ]
  },
  {
   "cell_type": "markdown",
   "id": "472ceaa9-35a1-4a6c-9745-ef2398a2c81a",
   "metadata": {},
   "source": [
    "#### 2. Data Overview "
   ]
  },
  {
   "cell_type": "code",
   "execution_count": 3,
   "id": "77b8220f-22e7-43f9-821b-5077b38214a6",
   "metadata": {},
   "outputs": [
    {
     "data": {
      "text/html": [
       "<div>\n",
       "<style scoped>\n",
       "    .dataframe tbody tr th:only-of-type {\n",
       "        vertical-align: middle;\n",
       "    }\n",
       "\n",
       "    .dataframe tbody tr th {\n",
       "        vertical-align: top;\n",
       "    }\n",
       "\n",
       "    .dataframe thead th {\n",
       "        text-align: right;\n",
       "    }\n",
       "</style>\n",
       "<table border=\"1\" class=\"dataframe\">\n",
       "  <thead>\n",
       "    <tr style=\"text-align: right;\">\n",
       "      <th></th>\n",
       "      <th>User_ID</th>\n",
       "      <th>Product_ID</th>\n",
       "      <th>Gender</th>\n",
       "      <th>Age</th>\n",
       "      <th>Occupation</th>\n",
       "      <th>City_Category</th>\n",
       "      <th>Stay_In_Current_City_Years</th>\n",
       "      <th>Marital_Status</th>\n",
       "      <th>Product_Category</th>\n",
       "      <th>Purchase</th>\n",
       "    </tr>\n",
       "  </thead>\n",
       "  <tbody>\n",
       "    <tr>\n",
       "      <th>0</th>\n",
       "      <td>1000001</td>\n",
       "      <td>P00069042</td>\n",
       "      <td>F</td>\n",
       "      <td>0-17</td>\n",
       "      <td>10</td>\n",
       "      <td>A</td>\n",
       "      <td>2</td>\n",
       "      <td>0</td>\n",
       "      <td>3</td>\n",
       "      <td>8370</td>\n",
       "    </tr>\n",
       "    <tr>\n",
       "      <th>1</th>\n",
       "      <td>1000001</td>\n",
       "      <td>P00248942</td>\n",
       "      <td>F</td>\n",
       "      <td>0-17</td>\n",
       "      <td>10</td>\n",
       "      <td>A</td>\n",
       "      <td>2</td>\n",
       "      <td>0</td>\n",
       "      <td>1</td>\n",
       "      <td>15200</td>\n",
       "    </tr>\n",
       "    <tr>\n",
       "      <th>2</th>\n",
       "      <td>1000001</td>\n",
       "      <td>P00087842</td>\n",
       "      <td>F</td>\n",
       "      <td>0-17</td>\n",
       "      <td>10</td>\n",
       "      <td>A</td>\n",
       "      <td>2</td>\n",
       "      <td>0</td>\n",
       "      <td>12</td>\n",
       "      <td>1422</td>\n",
       "    </tr>\n",
       "    <tr>\n",
       "      <th>3</th>\n",
       "      <td>1000001</td>\n",
       "      <td>P00085442</td>\n",
       "      <td>F</td>\n",
       "      <td>0-17</td>\n",
       "      <td>10</td>\n",
       "      <td>A</td>\n",
       "      <td>2</td>\n",
       "      <td>0</td>\n",
       "      <td>12</td>\n",
       "      <td>1057</td>\n",
       "    </tr>\n",
       "    <tr>\n",
       "      <th>4</th>\n",
       "      <td>1000002</td>\n",
       "      <td>P00285442</td>\n",
       "      <td>M</td>\n",
       "      <td>55+</td>\n",
       "      <td>16</td>\n",
       "      <td>C</td>\n",
       "      <td>4+</td>\n",
       "      <td>0</td>\n",
       "      <td>8</td>\n",
       "      <td>7969</td>\n",
       "    </tr>\n",
       "  </tbody>\n",
       "</table>\n",
       "</div>"
      ],
      "text/plain": [
       "   User_ID Product_ID Gender   Age  Occupation City_Category  \\\n",
       "0  1000001  P00069042      F  0-17          10             A   \n",
       "1  1000001  P00248942      F  0-17          10             A   \n",
       "2  1000001  P00087842      F  0-17          10             A   \n",
       "3  1000001  P00085442      F  0-17          10             A   \n",
       "4  1000002  P00285442      M   55+          16             C   \n",
       "\n",
       "  Stay_In_Current_City_Years  Marital_Status  Product_Category  Purchase  \n",
       "0                          2               0                 3      8370  \n",
       "1                          2               0                 1     15200  \n",
       "2                          2               0                12      1422  \n",
       "3                          2               0                12      1057  \n",
       "4                         4+               0                 8      7969  "
      ]
     },
     "execution_count": 3,
     "metadata": {},
     "output_type": "execute_result"
    }
   ],
   "source": [
    "XYZ_df.head()"
   ]
  },
  {
   "cell_type": "code",
   "execution_count": 4,
   "id": "3e76b74b-f119-4f56-9854-9205c15df3c8",
   "metadata": {},
   "outputs": [
    {
     "data": {
      "text/html": [
       "<div>\n",
       "<style scoped>\n",
       "    .dataframe tbody tr th:only-of-type {\n",
       "        vertical-align: middle;\n",
       "    }\n",
       "\n",
       "    .dataframe tbody tr th {\n",
       "        vertical-align: top;\n",
       "    }\n",
       "\n",
       "    .dataframe thead th {\n",
       "        text-align: right;\n",
       "    }\n",
       "</style>\n",
       "<table border=\"1\" class=\"dataframe\">\n",
       "  <thead>\n",
       "    <tr style=\"text-align: right;\">\n",
       "      <th></th>\n",
       "      <th>User_ID</th>\n",
       "      <th>Product_ID</th>\n",
       "      <th>Gender</th>\n",
       "      <th>Age</th>\n",
       "      <th>Occupation</th>\n",
       "      <th>City_Category</th>\n",
       "      <th>Stay_In_Current_City_Years</th>\n",
       "      <th>Marital_Status</th>\n",
       "      <th>Product_Category</th>\n",
       "      <th>Purchase</th>\n",
       "    </tr>\n",
       "  </thead>\n",
       "  <tbody>\n",
       "    <tr>\n",
       "      <th>550063</th>\n",
       "      <td>1006033</td>\n",
       "      <td>P00372445</td>\n",
       "      <td>M</td>\n",
       "      <td>51-55</td>\n",
       "      <td>13</td>\n",
       "      <td>B</td>\n",
       "      <td>1</td>\n",
       "      <td>1</td>\n",
       "      <td>20</td>\n",
       "      <td>368</td>\n",
       "    </tr>\n",
       "    <tr>\n",
       "      <th>550064</th>\n",
       "      <td>1006035</td>\n",
       "      <td>P00375436</td>\n",
       "      <td>F</td>\n",
       "      <td>26-35</td>\n",
       "      <td>1</td>\n",
       "      <td>C</td>\n",
       "      <td>3</td>\n",
       "      <td>0</td>\n",
       "      <td>20</td>\n",
       "      <td>371</td>\n",
       "    </tr>\n",
       "    <tr>\n",
       "      <th>550065</th>\n",
       "      <td>1006036</td>\n",
       "      <td>P00375436</td>\n",
       "      <td>F</td>\n",
       "      <td>26-35</td>\n",
       "      <td>15</td>\n",
       "      <td>B</td>\n",
       "      <td>4+</td>\n",
       "      <td>1</td>\n",
       "      <td>20</td>\n",
       "      <td>137</td>\n",
       "    </tr>\n",
       "    <tr>\n",
       "      <th>550066</th>\n",
       "      <td>1006038</td>\n",
       "      <td>P00375436</td>\n",
       "      <td>F</td>\n",
       "      <td>55+</td>\n",
       "      <td>1</td>\n",
       "      <td>C</td>\n",
       "      <td>2</td>\n",
       "      <td>0</td>\n",
       "      <td>20</td>\n",
       "      <td>365</td>\n",
       "    </tr>\n",
       "    <tr>\n",
       "      <th>550067</th>\n",
       "      <td>1006039</td>\n",
       "      <td>P00371644</td>\n",
       "      <td>F</td>\n",
       "      <td>46-50</td>\n",
       "      <td>0</td>\n",
       "      <td>B</td>\n",
       "      <td>4+</td>\n",
       "      <td>1</td>\n",
       "      <td>20</td>\n",
       "      <td>490</td>\n",
       "    </tr>\n",
       "  </tbody>\n",
       "</table>\n",
       "</div>"
      ],
      "text/plain": [
       "        User_ID Product_ID Gender    Age  Occupation City_Category  \\\n",
       "550063  1006033  P00372445      M  51-55          13             B   \n",
       "550064  1006035  P00375436      F  26-35           1             C   \n",
       "550065  1006036  P00375436      F  26-35          15             B   \n",
       "550066  1006038  P00375436      F    55+           1             C   \n",
       "550067  1006039  P00371644      F  46-50           0             B   \n",
       "\n",
       "       Stay_In_Current_City_Years  Marital_Status  Product_Category  Purchase  \n",
       "550063                          1               1                20       368  \n",
       "550064                          3               0                20       371  \n",
       "550065                         4+               1                20       137  \n",
       "550066                          2               0                20       365  \n",
       "550067                         4+               1                20       490  "
      ]
     },
     "execution_count": 4,
     "metadata": {},
     "output_type": "execute_result"
    }
   ],
   "source": [
    "XYZ_df.tail()"
   ]
  },
  {
   "cell_type": "code",
   "execution_count": 5,
   "id": "e03d538f-abd8-43b8-8e31-aa5a31d4d0cd",
   "metadata": {},
   "outputs": [
    {
     "data": {
      "text/plain": [
       "(550068, 10)"
      ]
     },
     "execution_count": 5,
     "metadata": {},
     "output_type": "execute_result"
    }
   ],
   "source": [
    "# Shape of the dataframe\n",
    "XYZ_df.shape"
   ]
  },
  {
   "cell_type": "code",
   "execution_count": 6,
   "id": "0b03671a-f7cb-4328-8930-13e3978748bc",
   "metadata": {},
   "outputs": [
    {
     "data": {
      "text/plain": [
       "Index(['User_ID', 'Product_ID', 'Gender', 'Age', 'Occupation', 'City_Category',\n",
       "       'Stay_In_Current_City_Years', 'Marital_Status', 'Product_Category',\n",
       "       'Purchase'],\n",
       "      dtype='object')"
      ]
     },
     "execution_count": 6,
     "metadata": {},
     "output_type": "execute_result"
    }
   ],
   "source": [
    "# Name of each column in dataframe\n",
    "XYZ_df.columns"
   ]
  },
  {
   "cell_type": "code",
   "execution_count": 7,
   "id": "1b0eff3e-5adf-4060-8202-af48cb34ef94",
   "metadata": {},
   "outputs": [
    {
     "data": {
      "text/plain": [
       "User_ID                        int64\n",
       "Product_ID                    object\n",
       "Gender                        object\n",
       "Age                           object\n",
       "Occupation                     int64\n",
       "City_Category                 object\n",
       "Stay_In_Current_City_Years    object\n",
       "Marital_Status                 int64\n",
       "Product_Category               int64\n",
       "Purchase                       int64\n",
       "dtype: object"
      ]
     },
     "execution_count": 7,
     "metadata": {},
     "output_type": "execute_result"
    }
   ],
   "source": [
    "# Datatype of each column in dataframe\n",
    "XYZ_df.dtypes"
   ]
  },
  {
   "cell_type": "markdown",
   "id": "8800757f-0e3d-414c-8e31-9afd3b3f870c",
   "metadata": {},
   "source": [
    "**Next, we'll find out the unique values in each column. This will help us understand how varied the data is.**"
   ]
  },
  {
   "cell_type": "code",
   "execution_count": 8,
   "id": "472ee381-1e9d-44e7-ac78-f0a0c16a2fbf",
   "metadata": {},
   "outputs": [
    {
     "name": "stdout",
     "output_type": "stream",
     "text": [
      "\n",
      "Unique Values of User_ID:  [1000001 1000002 1000003 ... 1004113 1005391 1001529]\n",
      "\n",
      "Unique Values of Product_ID:  ['P00069042' 'P00248942' 'P00087842' ... 'P00370293' 'P00371644'\n",
      " 'P00370853']\n",
      "\n",
      "Unique Values of Gender:  ['F' 'M']\n",
      "\n",
      "Unique Values of Age:  ['0-17' '55+' '26-35' '46-50' '51-55' '36-45' '18-25']\n",
      "\n",
      "Unique Values of Occupation:  [10 16 15  7 20  9  1 12 17  0  3  4 11  8 19  2 18  5 14 13  6]\n",
      "\n",
      "Unique Values of City_Category:  ['A' 'C' 'B']\n",
      "\n",
      "Unique Values of Stay_In_Current_City_Years:  ['2' '4+' '3' '1' '0']\n",
      "\n",
      "Unique Values of Marital_Status:  [0 1]\n",
      "\n",
      "Unique Values of Product_Category:  [ 3  1 12  8  5  4  2  6 14 11 13 15  7 16 18 10 17  9 20 19]\n",
      "\n",
      "Unique Values of Purchase:  [ 8370 15200  1422 ...   135   123   613]\n"
     ]
    }
   ],
   "source": [
    "def print_unique_values(df):\n",
    "    for column in df.columns:\n",
    "        unique_values = df[column].unique()\n",
    "        print(f\"\\nUnique Values of {column}: \", unique_values)\n",
    "\n",
    "# Example usage\n",
    "print_unique_values(XYZ_df)"
   ]
  },
  {
   "cell_type": "markdown",
   "id": "0ce7e62a-cff8-4a3f-ba24-c262f927c6c1",
   "metadata": {},
   "source": [
    "**Count how many unique values there are in each column.**"
   ]
  },
  {
   "cell_type": "code",
   "execution_count": 9,
   "id": "3ae0fcb9-fbb9-407c-8c05-5802e9de45be",
   "metadata": {},
   "outputs": [
    {
     "name": "stdout",
     "output_type": "stream",
     "text": [
      "\n",
      "Unique Values of User_ID:  5891\n",
      "\n",
      "Unique Values of Product_ID:  3631\n",
      "\n",
      "Unique Values of Gender:  2\n",
      "\n",
      "Unique Values of Age:  7\n",
      "\n",
      "Unique Values of Occupation:  21\n",
      "\n",
      "Unique Values of City_Category:  3\n",
      "\n",
      "Unique Values of Stay_In_Current_City_Years:  5\n",
      "\n",
      "Unique Values of Marital_Status:  2\n",
      "\n",
      "Unique Values of Product_Category:  20\n",
      "\n",
      "Unique Values of Purchase:  18105\n"
     ]
    }
   ],
   "source": [
    "def print_nunique_values(df):\n",
    "    for column in df.columns:\n",
    "        unique_values = df[column].nunique()\n",
    "        print(f\"\\nUnique Values of {column}: \", unique_values)\n",
    "\n",
    "# Example usage\n",
    "print_nunique_values(XYZ_df)"
   ]
  },
  {
   "cell_type": "markdown",
   "id": "6c5f801a-0f3c-4a7d-ac38-91832790a060",
   "metadata": {},
   "source": [
    "#### 3. Data Cleaning"
   ]
  },
  {
   "cell_type": "markdown",
   "id": "174dfc47-6a02-4927-8b7b-eb12ff6c56ae",
   "metadata": {},
   "source": [
    "We'll make some changes to the data for better analysis. For example, we'll adjust the 'Stay_In_Current_City_Years' column by removing the '+' symbol and converting it to a numeric format. But first, let's look the unique values."
   ]
  },
  {
   "cell_type": "code",
   "execution_count": 10,
   "id": "a94d4bfe-43d3-4812-a202-b0cb561719cd",
   "metadata": {},
   "outputs": [
    {
     "data": {
      "text/plain": [
       "array(['2', '4+', '3', '1', '0'], dtype=object)"
      ]
     },
     "execution_count": 10,
     "metadata": {},
     "output_type": "execute_result"
    }
   ],
   "source": [
    "XYZ_df.Stay_In_Current_City_Years.unique()"
   ]
  },
  {
   "cell_type": "code",
   "execution_count": 11,
   "id": "f613da98-b6ee-432f-8f42-6eab705fc71c",
   "metadata": {},
   "outputs": [],
   "source": [
    "# Removing \"+\" symbol\n",
    "XYZ_df.Stay_In_Current_City_Years=XYZ_df.Stay_In_Current_City_Years.str.replace(\"+\",\"\")"
   ]
  },
  {
   "cell_type": "code",
   "execution_count": 12,
   "id": "4ddb63ce-465b-4274-9df0-1e908eb356c1",
   "metadata": {},
   "outputs": [
    {
     "data": {
      "text/plain": [
       "array(['2', '4', '3', '1', '0'], dtype=object)"
      ]
     },
     "execution_count": 12,
     "metadata": {},
     "output_type": "execute_result"
    }
   ],
   "source": [
    "XYZ_df.Stay_In_Current_City_Years.unique()"
   ]
  },
  {
   "cell_type": "code",
   "execution_count": 13,
   "id": "0236a8f3-fb96-490b-953d-3d3c2df7f034",
   "metadata": {},
   "outputs": [],
   "source": [
    "# Assuming '+' symbols have already been removed as per your screenshot\n",
    "XYZ_df['Stay_In_Current_City_Years'] = pd.to_numeric(XYZ_df['Stay_In_Current_City_Years'])"
   ]
  },
  {
   "cell_type": "markdown",
   "id": "16f58d01-a58e-43a4-91b3-947f36424718",
   "metadata": {},
   "source": [
    "#### 4. Statistical Summary "
   ]
  },
  {
   "cell_type": "markdown",
   "id": "26868059-0ff0-4568-bfa9-2e189c657862",
   "metadata": {},
   "source": [
    "**In this section, we'll examine some basic statistics of the data, including the mean, standard deviation, minimum, and maximum values. This will help us understand the overall distribution and range of the data. Before that, we'll first filter for numerical data types.**"
   ]
  },
  {
   "cell_type": "code",
   "execution_count": 14,
   "id": "95c0925e-13f4-449d-88bc-0aebafe788c7",
   "metadata": {},
   "outputs": [
    {
     "data": {
      "text/plain": [
       "User_ID                       0.003066\n",
       "Occupation                    0.400140\n",
       "Stay_In_Current_City_Years    0.317236\n",
       "Marital_Status                0.367437\n",
       "Product_Category              1.025735\n",
       "Purchase                      0.600140\n",
       "dtype: float64"
      ]
     },
     "execution_count": 14,
     "metadata": {},
     "output_type": "execute_result"
    }
   ],
   "source": [
    "XYZ_df.select_dtypes(include=['int64']).skew()"
   ]
  },
  {
   "cell_type": "code",
   "execution_count": 15,
   "id": "9c91c07c-c5f6-4ad1-8fa9-e8ac705a6ee9",
   "metadata": {},
   "outputs": [
    {
     "data": {
      "text/html": [
       "<div>\n",
       "<style scoped>\n",
       "    .dataframe tbody tr th:only-of-type {\n",
       "        vertical-align: middle;\n",
       "    }\n",
       "\n",
       "    .dataframe tbody tr th {\n",
       "        vertical-align: top;\n",
       "    }\n",
       "\n",
       "    .dataframe thead th {\n",
       "        text-align: right;\n",
       "    }\n",
       "</style>\n",
       "<table border=\"1\" class=\"dataframe\">\n",
       "  <thead>\n",
       "    <tr style=\"text-align: right;\">\n",
       "      <th></th>\n",
       "      <th>User_ID</th>\n",
       "      <th>Product_ID</th>\n",
       "      <th>Gender</th>\n",
       "      <th>Age</th>\n",
       "      <th>Occupation</th>\n",
       "      <th>City_Category</th>\n",
       "      <th>Stay_In_Current_City_Years</th>\n",
       "      <th>Marital_Status</th>\n",
       "      <th>Product_Category</th>\n",
       "      <th>Purchase</th>\n",
       "    </tr>\n",
       "  </thead>\n",
       "  <tbody>\n",
       "    <tr>\n",
       "      <th>count</th>\n",
       "      <td>5.500680e+05</td>\n",
       "      <td>550068</td>\n",
       "      <td>550068</td>\n",
       "      <td>550068</td>\n",
       "      <td>550068.000000</td>\n",
       "      <td>550068</td>\n",
       "      <td>550068.000000</td>\n",
       "      <td>550068.000000</td>\n",
       "      <td>550068.000000</td>\n",
       "      <td>550068.000000</td>\n",
       "    </tr>\n",
       "    <tr>\n",
       "      <th>unique</th>\n",
       "      <td>NaN</td>\n",
       "      <td>3631</td>\n",
       "      <td>2</td>\n",
       "      <td>7</td>\n",
       "      <td>NaN</td>\n",
       "      <td>3</td>\n",
       "      <td>NaN</td>\n",
       "      <td>NaN</td>\n",
       "      <td>NaN</td>\n",
       "      <td>NaN</td>\n",
       "    </tr>\n",
       "    <tr>\n",
       "      <th>top</th>\n",
       "      <td>NaN</td>\n",
       "      <td>P00265242</td>\n",
       "      <td>M</td>\n",
       "      <td>26-35</td>\n",
       "      <td>NaN</td>\n",
       "      <td>B</td>\n",
       "      <td>NaN</td>\n",
       "      <td>NaN</td>\n",
       "      <td>NaN</td>\n",
       "      <td>NaN</td>\n",
       "    </tr>\n",
       "    <tr>\n",
       "      <th>freq</th>\n",
       "      <td>NaN</td>\n",
       "      <td>1880</td>\n",
       "      <td>414259</td>\n",
       "      <td>219587</td>\n",
       "      <td>NaN</td>\n",
       "      <td>231173</td>\n",
       "      <td>NaN</td>\n",
       "      <td>NaN</td>\n",
       "      <td>NaN</td>\n",
       "      <td>NaN</td>\n",
       "    </tr>\n",
       "    <tr>\n",
       "      <th>mean</th>\n",
       "      <td>1.003029e+06</td>\n",
       "      <td>NaN</td>\n",
       "      <td>NaN</td>\n",
       "      <td>NaN</td>\n",
       "      <td>8.076707</td>\n",
       "      <td>NaN</td>\n",
       "      <td>1.858418</td>\n",
       "      <td>0.409653</td>\n",
       "      <td>5.404270</td>\n",
       "      <td>9263.968713</td>\n",
       "    </tr>\n",
       "    <tr>\n",
       "      <th>std</th>\n",
       "      <td>1.727592e+03</td>\n",
       "      <td>NaN</td>\n",
       "      <td>NaN</td>\n",
       "      <td>NaN</td>\n",
       "      <td>6.522660</td>\n",
       "      <td>NaN</td>\n",
       "      <td>1.289443</td>\n",
       "      <td>0.491770</td>\n",
       "      <td>3.936211</td>\n",
       "      <td>5023.065394</td>\n",
       "    </tr>\n",
       "    <tr>\n",
       "      <th>min</th>\n",
       "      <td>1.000001e+06</td>\n",
       "      <td>NaN</td>\n",
       "      <td>NaN</td>\n",
       "      <td>NaN</td>\n",
       "      <td>0.000000</td>\n",
       "      <td>NaN</td>\n",
       "      <td>0.000000</td>\n",
       "      <td>0.000000</td>\n",
       "      <td>1.000000</td>\n",
       "      <td>12.000000</td>\n",
       "    </tr>\n",
       "    <tr>\n",
       "      <th>25%</th>\n",
       "      <td>1.001516e+06</td>\n",
       "      <td>NaN</td>\n",
       "      <td>NaN</td>\n",
       "      <td>NaN</td>\n",
       "      <td>2.000000</td>\n",
       "      <td>NaN</td>\n",
       "      <td>1.000000</td>\n",
       "      <td>0.000000</td>\n",
       "      <td>1.000000</td>\n",
       "      <td>5823.000000</td>\n",
       "    </tr>\n",
       "    <tr>\n",
       "      <th>50%</th>\n",
       "      <td>1.003077e+06</td>\n",
       "      <td>NaN</td>\n",
       "      <td>NaN</td>\n",
       "      <td>NaN</td>\n",
       "      <td>7.000000</td>\n",
       "      <td>NaN</td>\n",
       "      <td>2.000000</td>\n",
       "      <td>0.000000</td>\n",
       "      <td>5.000000</td>\n",
       "      <td>8047.000000</td>\n",
       "    </tr>\n",
       "    <tr>\n",
       "      <th>75%</th>\n",
       "      <td>1.004478e+06</td>\n",
       "      <td>NaN</td>\n",
       "      <td>NaN</td>\n",
       "      <td>NaN</td>\n",
       "      <td>14.000000</td>\n",
       "      <td>NaN</td>\n",
       "      <td>3.000000</td>\n",
       "      <td>1.000000</td>\n",
       "      <td>8.000000</td>\n",
       "      <td>12054.000000</td>\n",
       "    </tr>\n",
       "    <tr>\n",
       "      <th>max</th>\n",
       "      <td>1.006040e+06</td>\n",
       "      <td>NaN</td>\n",
       "      <td>NaN</td>\n",
       "      <td>NaN</td>\n",
       "      <td>20.000000</td>\n",
       "      <td>NaN</td>\n",
       "      <td>4.000000</td>\n",
       "      <td>1.000000</td>\n",
       "      <td>20.000000</td>\n",
       "      <td>23961.000000</td>\n",
       "    </tr>\n",
       "  </tbody>\n",
       "</table>\n",
       "</div>"
      ],
      "text/plain": [
       "             User_ID Product_ID  Gender     Age     Occupation City_Category  \\\n",
       "count   5.500680e+05     550068  550068  550068  550068.000000        550068   \n",
       "unique           NaN       3631       2       7            NaN             3   \n",
       "top              NaN  P00265242       M   26-35            NaN             B   \n",
       "freq             NaN       1880  414259  219587            NaN        231173   \n",
       "mean    1.003029e+06        NaN     NaN     NaN       8.076707           NaN   \n",
       "std     1.727592e+03        NaN     NaN     NaN       6.522660           NaN   \n",
       "min     1.000001e+06        NaN     NaN     NaN       0.000000           NaN   \n",
       "25%     1.001516e+06        NaN     NaN     NaN       2.000000           NaN   \n",
       "50%     1.003077e+06        NaN     NaN     NaN       7.000000           NaN   \n",
       "75%     1.004478e+06        NaN     NaN     NaN      14.000000           NaN   \n",
       "max     1.006040e+06        NaN     NaN     NaN      20.000000           NaN   \n",
       "\n",
       "        Stay_In_Current_City_Years  Marital_Status  Product_Category  \\\n",
       "count                550068.000000   550068.000000     550068.000000   \n",
       "unique                         NaN             NaN               NaN   \n",
       "top                            NaN             NaN               NaN   \n",
       "freq                           NaN             NaN               NaN   \n",
       "mean                      1.858418        0.409653          5.404270   \n",
       "std                       1.289443        0.491770          3.936211   \n",
       "min                       0.000000        0.000000          1.000000   \n",
       "25%                       1.000000        0.000000          1.000000   \n",
       "50%                       2.000000        0.000000          5.000000   \n",
       "75%                       3.000000        1.000000          8.000000   \n",
       "max                       4.000000        1.000000         20.000000   \n",
       "\n",
       "             Purchase  \n",
       "count   550068.000000  \n",
       "unique            NaN  \n",
       "top               NaN  \n",
       "freq              NaN  \n",
       "mean      9263.968713  \n",
       "std       5023.065394  \n",
       "min         12.000000  \n",
       "25%       5823.000000  \n",
       "50%       8047.000000  \n",
       "75%      12054.000000  \n",
       "max      23961.000000  "
      ]
     },
     "execution_count": 15,
     "metadata": {},
     "output_type": "execute_result"
    }
   ],
   "source": [
    "XYZ_df.describe(include = 'all')"
   ]
  },
  {
   "cell_type": "markdown",
   "id": "4ceb2720-7c3e-48e1-81fc-a2bcf80809b3",
   "metadata": {},
   "source": [
    "#### 4. Observations from Analysis "
   ]
  },
  {
   "cell_type": "markdown",
   "id": "41ddd49e-b573-4494-b54a-8bf580caef10",
   "metadata": {},
   "source": [
    "- There are no missing values in the data.\n",
    "- Customers in the age group of 26-35 have made more purchases (**219,587**) compared to other age groups.\n",
    "- Customers in **City_Category B** have made more purchases (**231,173**) compared to other City_Categories.\n",
    "- Out of **550,000** data points, **414,259** are Male, and the rest are Female.\n",
    "- The customer with the minimum purchase amount spent **\\$12**.\n",
    "- The customer with the maximum purchase amount spent **\\$23,961**.\n",
    "- There might be outliers in the purchase data.\n"
   ]
  },
  {
   "cell_type": "markdown",
   "id": "48a116c6-7fc9-4df4-9c52-e101a80a9ddb",
   "metadata": {},
   "source": [
    "** *Missing Value Detection* **"
   ]
  },
  {
   "cell_type": "markdown",
   "id": "4961a05c-cc20-45a1-9ce7-38ca639d5ebb",
   "metadata": {},
   "source": [
    "We'll check if there are any missing values in the data. Missing values can affect the analysis, so it's important to know if there are any. So Let's check the missing values in our dataset."
   ]
  },
  {
   "cell_type": "code",
   "execution_count": 16,
   "id": "dd4b235b-4994-44fc-a605-be4802ba32b2",
   "metadata": {},
   "outputs": [
    {
     "data": {
      "text/plain": [
       "User_ID                       0\n",
       "Product_ID                    0\n",
       "Gender                        0\n",
       "Age                           0\n",
       "Occupation                    0\n",
       "City_Category                 0\n",
       "Stay_In_Current_City_Years    0\n",
       "Marital_Status                0\n",
       "Product_Category              0\n",
       "Purchase                      0\n",
       "dtype: int64"
      ]
     },
     "execution_count": 16,
     "metadata": {},
     "output_type": "execute_result"
    }
   ],
   "source": [
    "# Missing value detection\n",
    "XYZ_df.isna().sum()"
   ]
  },
  {
   "cell_type": "markdown",
   "id": "9dd36e81-1419-46c3-a8a6-d5fb401a1bde",
   "metadata": {},
   "source": [
    "** *Duplicate Value Detection* **"
   ]
  },
  {
   "cell_type": "markdown",
   "id": "8887e23c-6b38-4bae-abc7-bcea3e2e4948",
   "metadata": {},
   "source": [
    "We'll check for any duplicate entries in the data. Duplicates can skew our analysis, so we need to identify and handle them."
   ]
  },
  {
   "cell_type": "code",
   "execution_count": 17,
   "id": "f2e3523d-4999-4834-bef8-dbddeec6fd61",
   "metadata": {},
   "outputs": [
    {
     "data": {
      "text/plain": [
       "np.int64(0)"
      ]
     },
     "execution_count": 17,
     "metadata": {},
     "output_type": "execute_result"
    }
   ],
   "source": [
    "# Checking duplicate values in the data set\n",
    "XYZ_df.duplicated(subset=None,keep='first').sum() "
   ]
  },
  {
   "cell_type": "markdown",
   "id": "177b1955-e6cd-426a-b7d6-b9b3c36ed710",
   "metadata": {},
   "source": [
    "#### 5. Data Visualization "
   ]
  },
  {
   "cell_type": "code",
   "execution_count": 18,
   "id": "2b40a78f-9e9c-4c90-b242-7d2ab73798d3",
   "metadata": {},
   "outputs": [
    {
     "name": "stdout",
     "output_type": "stream",
     "text": [
      "<class 'pandas.core.frame.DataFrame'>\n",
      "RangeIndex: 550068 entries, 0 to 550067\n",
      "Data columns (total 10 columns):\n",
      " #   Column                      Non-Null Count   Dtype \n",
      "---  ------                      --------------   ----- \n",
      " 0   User_ID                     550068 non-null  int64 \n",
      " 1   Product_ID                  550068 non-null  object\n",
      " 2   Gender                      550068 non-null  object\n",
      " 3   Age                         550068 non-null  object\n",
      " 4   Occupation                  550068 non-null  int64 \n",
      " 5   City_Category               550068 non-null  object\n",
      " 6   Stay_In_Current_City_Years  550068 non-null  int64 \n",
      " 7   Marital_Status              550068 non-null  int64 \n",
      " 8   Product_Category            550068 non-null  int64 \n",
      " 9   Purchase                    550068 non-null  int64 \n",
      "dtypes: int64(6), object(4)\n",
      "memory usage: 42.0+ MB\n"
     ]
    }
   ],
   "source": [
    "XYZ_df.info()"
   ]
  },
  {
   "cell_type": "markdown",
   "id": "4da037ac-022f-4b6f-944b-c3abb7c4a8f5",
   "metadata": {},
   "source": [
    "**In this part, we'll create visual representations of the numerical data. This will include graphs showing distributions of various numerical features like occupation, years in the current city, marital status, and purchase amounts. Graphs help us see patterns and trends more easily than looking at numbers alone.**"
   ]
  },
  {
   "cell_type": "code",
   "execution_count": 19,
   "id": "507b28c4-bc8e-4201-9169-e3262bf882da",
   "metadata": {},
   "outputs": [
    {
     "data": {
      "text/plain": [
       "['User_ID',\n",
       " 'Occupation',\n",
       " 'Stay_In_Current_City_Years',\n",
       " 'Marital_Status',\n",
       " 'Product_Category',\n",
       " 'Purchase']"
      ]
     },
     "execution_count": 19,
     "metadata": {},
     "output_type": "execute_result"
    }
   ],
   "source": [
    "[col for col in XYZ_df.select_dtypes(include=['int64']).columns]"
   ]
  },
  {
   "cell_type": "markdown",
   "id": "5579adc9-6688-43d9-bfe5-0d7fa83d2fca",
   "metadata": {},
   "source": [
    "***Note:** From that list, we can remove User_ID amd Product_Category, because that wont contribute to our analysis.*"
   ]
  },
  {
   "cell_type": "code",
   "execution_count": null,
   "id": "f6cdaed7-f26d-44af-bf9d-4dc951baafb8",
   "metadata": {},
   "outputs": [],
   "source": [
    "import seaborn as sns\n",
    "import matplotlib.pyplot as plt\n",
    "from scipy.stats import norm\n",
    "\n",
    "# Create a 2x2 grid of subplots\n",
    "fig, axis = plt.subplots(nrows=2, ncols=2, figsize=(12, 10))\n",
    "fig.subplots_adjust(top=0.9)  # Adjust the top spacing of the subplots\n",
    "\n",
    "# Plot distribution plots for each specified column\n",
    "sns.distplot(XYZ_df['Occupation'], kde=True, ax=axis[0,0], color=\"#900000\")\n",
    "sns.distplot(XYZ_df['Stay_In_Current_City_Years'].astype(int), kde=True, ax=axis[0,1], color=\"#900000\")\n",
    "sns.distplot(XYZ_df['Marital_Status'], kde=True, ax=axis[1,0], color=\"#900000\")\n",
    "\n",
    "# Plotting a distribution plot for the 'Purchase' variable with normal curve fit\n",
    "sns.distplot(XYZ_df['Purchase'], ax=axis[1,1], color=\"#900000\", fit=norm)\n",
    "\n",
    "# Fitting the target variable to the normal curve \n",
    "mu, sigma = norm.fit(XYZ_df['Purchase']) \n",
    "print(\"The mu (mean) is {} and sigma (standard deviation) is {} for the curve\".format(mu, sigma))\n",
    "\n",
    "# Adding a legend for the 'Purchase' distribution plot\n",
    "axis[1,1].legend(['Normal Distribution (μ = {:.2f}, σ = {:.2f})'.format(mu, sigma)], loc='best')\n",
    "\n",
    "# Show the plots\n",
    "plt.show()"
   ]
  },
  {
   "cell_type": "code",
   "execution_count": null,
   "id": "70560aed-236f-4e53-bf67-4518d3a21b5d",
   "metadata": {},
   "outputs": [],
   "source": [
    "import plotly.graph_objects as go\n",
    "from plotly.subplots import make_subplots\n",
    "\n",
    "# Create subplots\n",
    "fig = make_subplots(\n",
    "    rows=4, cols=2,\n",
    "    subplot_titles=(\"Gender\", \"Age\", \"Occupation\", \"City Category\",\n",
    "                    \"Stay In Current City Years\", \"Marital Status\", \"Product Category\", \"Purchase\")\n",
    ")\n",
    "\n",
    "# Add histograms for each subplot\n",
    "fig.add_trace(go.Histogram(x=XYZ_df['Gender']), row=1, col=1)\n",
    "fig.add_trace(go.Histogram(x=XYZ_df['Age']), row=1, col=2)\n",
    "fig.add_trace(go.Histogram(x=XYZ_df['Occupation']), row=2, col=1)\n",
    "fig.add_trace(go.Histogram(x=XYZ_df['City_Category']), row=2, col=2)\n",
    "fig.add_trace(go.Histogram(x=XYZ_df['Stay_In_Current_City_Years']), row=3, col=1)\n",
    "fig.add_trace(go.Histogram(x=XYZ_df['Marital_Status']), row=3, col=2)\n",
    "fig.add_trace(go.Histogram(x=XYZ_df['Product_Category']), row=4, col=1)\n",
    "fig.add_trace(go.Histogram(x=XYZ_df['Purchase']), row=4, col=2)\n",
    "\n",
    "# Update layout if needed\n",
    "fig.update_layout(height=1200, width=1000, title_text=\"Count Plots\")\n",
    "fig.update_layout(showlegend=False)  # Hide the legend if not needed\n",
    "\n",
    "# Show the figure\n",
    "fig.show()"
   ]
  },
  {
   "cell_type": "markdown",
   "id": "030e0fe4-4036-459b-847d-92240d20ccea",
   "metadata": {},
   "source": [
    "**Observations:**\n",
    "- The majority of buyers are **male**, while females represent the minority. This difference is influenced by the categories on sale during Black Friday, and evaluating a specific category may alter the gender distribution.\n",
    "- Buyers are classified into **seven age groups**.\n",
    "- **Most buyers are single**.\n",
    "- Buyers' occupations vary, but **Occupation 8 has an extremely low count**. It can be ignored in calculations as it has minimal impact on results.\n",
    "- The majority of products belong to **Category 1, 5, and 8**. Low-count categories could be merged into a single category to simplify the problem.\n",
    "- A **higher count of buyers in urban areas** suggests a greater population in **City_Category**.\n",
    "- **Most buyers have lived in the city for one year**, while the remaining categories are fairly evenly distributed."
   ]
  },
  {
   "cell_type": "markdown",
   "id": "75dbb193-24a9-41b0-94f9-db9df74479c2",
   "metadata": {},
   "source": [
    "Next, we'll focus on the categorical data, like gender, age, and city category. We'll use different types of charts to show how these categories relate to purchases. This will help us understand which categories have the most impact on purchasing behavior."
   ]
  },
  {
   "cell_type": "code",
   "execution_count": null,
   "id": "21f0411a-5159-4f19-b598-479958a30b96",
   "metadata": {},
   "outputs": [],
   "source": [
    "fig, axis = plt.subplots(nrows=2, ncols=2, figsize=(12, 10))\n",
    "fig.subplots_adjust(top=1.2)\n",
    "\n",
    "sns.boxplot(data=XYZ_df, x=\"Occupation\", ax=axis[0,0])\n",
    "sns.boxplot(data=XYZ_df, x=\"Stay_In_Current_City_Years\", orient='h', ax=axis[0,1])\n",
    "sns.boxplot(data=XYZ_df, x=\"Purchase\", orient='h', ax=axis[1,0])\n",
    "\n",
    "\n",
    "plt.show()"
   ]
  },
  {
   "cell_type": "code",
   "execution_count": null,
   "id": "1ca1e02e-54a0-43c0-88ec-c1cf469d0a73",
   "metadata": {},
   "outputs": [],
   "source": [
    "attrs = ['Gender', 'Age', 'Occupation', 'City_Category', 'Stay_In_Current_City_Years', 'Marital_Status', 'Product_Category']\n",
    "sns.set(color_codes = True)\n",
    "fig, axs = plt.subplots(nrows=3, ncols=2, figsize=(20, 16))\n",
    "fig.subplots_adjust(top=1.3)\n",
    "count = 0\n",
    "for row in range(3):\n",
    "    for col in range(2):\n",
    "        sns.boxplot(data=XYZ_df, y='Purchase', x=attrs[count], ax=axs[row, col])\n",
    "        axs[row,col].set_title(f\"Purchase vs {attrs[count]}\", pad=12, fontsize=13)\n",
    "        count += 1\n",
    "plt.show()\n",
    "\n",
    "plt.figure(figsize=(10, 8))\n",
    "sns.boxplot(data=XYZ_df, y='Purchase', x=attrs[-1])\n",
    "plt.show()"
   ]
  },
  {
   "cell_type": "code",
   "execution_count": null,
   "id": "acccb844-79c5-43fe-9e3b-8f7606e00412",
   "metadata": {},
   "outputs": [],
   "source": [
    "sns.set(color_codes = True)\n",
    "fig, axs = plt.subplots(nrows=2, ncols=2, figsize=(20, 6))\n",
    "\n",
    "fig.subplots_adjust(top=1.5)\n",
    "sns.boxplot(data=XYZ_df, y='Purchase', x='Gender', hue='Age', ax=axs[0,0])\n",
    "sns.boxplot(data=XYZ_df, y='Purchase', x='Gender', hue='City_Category', ax=axs[0,1])\n",
    "\n",
    "sns.boxplot(data=XYZ_df, y='Purchase', x='Gender', hue='Marital_Status', ax=axs[1,0])\n",
    "sns.boxplot(data=XYZ_df, y='Purchase', x='Gender', hue='Stay_In_Current_City_Years', ax=axs[1,1])\n",
    "axs[1,1].legend(loc='upper left')\n",
    "\n",
    "plt.show()"
   ]
  },
  {
   "cell_type": "markdown",
   "id": "2f6c732a-c664-483b-bfb6-0de9d48b7031",
   "metadata": {},
   "source": [
    "#### 6. Data Analysis "
   ]
  },
  {
   "cell_type": "markdown",
   "id": "716e9d83-2c7e-4c2c-ae93-ca765811dc8e",
   "metadata": {},
   "source": [
    "**1. Are women spending more money per transaction than men? Why or Why not?**\n"
   ]
  },
  {
   "cell_type": "code",
   "execution_count": null,
   "id": "625d27ce-03d1-4e6e-a1e6-3ccd98281c3d",
   "metadata": {},
   "outputs": [],
   "source": [
    "# Average amount spend per customer for Male and Female\n",
    "amt_df = XYZ_df.groupby(['User_ID', 'Gender'])[['Purchase']].sum()\n",
    "avg_amt_df = amt_df.reset_index()\n",
    "avg_amt_df"
   ]
  },
  {
   "cell_type": "code",
   "execution_count": null,
   "id": "2cb4a6ff-590d-45ed-a274-56cc09b3085b",
   "metadata": {},
   "outputs": [],
   "source": [
    "# Gender wise value counts in avg_amt_df\n",
    "avg_amt_df['Gender'].value_counts()"
   ]
  },
  {
   "cell_type": "code",
   "execution_count": null,
   "id": "1744fa1f-af1a-4e8a-bbcd-7d709245238f",
   "metadata": {},
   "outputs": [],
   "source": [
    "# histogram of average amount spend for each customer - Male\n",
    "avg_amt_df[avg_amt_df['Gender']=='M']['Purchase'].hist(bins=100)\n",
    "plt.show()"
   ]
  },
  {
   "cell_type": "code",
   "execution_count": null,
   "id": "84647b17-9b29-46ee-ab8a-41db04c81d8d",
   "metadata": {},
   "outputs": [],
   "source": [
    "# histogram of average amount spend for each customer - Female\n",
    "avg_amt_df[avg_amt_df['Gender']=='F']['Purchase'].hist(bins=100)\n",
    "plt.show()"
   ]
  },
  {
   "cell_type": "code",
   "execution_count": null,
   "id": "ba90c827-5462-4fc9-a55c-e55087292949",
   "metadata": {},
   "outputs": [],
   "source": [
    "male_avg = avg_amt_df[avg_amt_df['Gender']=='M']['Purchase'].mean()\n",
    "female_avg = avg_amt_df[avg_amt_df['Gender']=='F']['Purchase'].mean()\n",
    "\n",
    "print(\"Average amount spend by Male customers: {:.2f}\".format(male_avg))\n",
    "print(\"Average amount spend by Female customers: {:.2f}\".format(female_avg))"
   ]
  },
  {
   "cell_type": "markdown",
   "id": "2b8c2061-fc82-4d2d-9bf9-3808128e19fd",
   "metadata": {},
   "source": [
    "**2. Confidence intervals and distribution of the mean of the expenses by female and male customers.**"
   ]
  },
  {
   "cell_type": "code",
   "execution_count": null,
   "id": "6f5e5125-e067-4f4d-b961-cd2a5558724f",
   "metadata": {},
   "outputs": [],
   "source": [
    "male_df = avg_amt_df[avg_amt_df['Gender']=='M']\n",
    "female_df = avg_amt_df[avg_amt_df['Gender']=='F']"
   ]
  },
  {
   "cell_type": "code",
   "execution_count": null,
   "id": "461526c9-6805-4acb-a778-9c1cde1b47cb",
   "metadata": {},
   "outputs": [],
   "source": [
    "genders = [\"M\", \"F\"]\n",
    "\n",
    "male_sample_size = 3000\n",
    "female_sample_size = 1500\n",
    "num_repitions = 1000\n",
    "male_means = []\n",
    "female_means = []\n",
    "\n",
    "for _ in range(num_repitions):\n",
    "    male_mean = male_df.sample(male_sample_size, replace=True)['Purchase'].mean()\n",
    "    female_mean = female_df.sample(female_sample_size, replace=True)['Purchase'].mean()\n",
    "    \n",
    "    male_means.append(male_mean)"
   ]
  },
  {
   "cell_type": "code",
   "execution_count": null,
   "id": "1001e001-051a-4b55-a14e-adf79d04192c",
   "metadata": {},
   "outputs": [],
   "source": [
    "fig, axis = plt.subplots(nrows=1, ncols=2, figsize=(20, 6))\n",
    "\n",
    "axis[0].hist(male_means, bins=100)\n",
    "axis[1].hist(female_means, bins=100)\n",
    "axis[0].set_title(\"Male - Distribution of means, Sample size: 9500\")\n",
    "axis[1].set_title(\"Female - Distribution of means, Sample size: 8500\")\n",
    "\n",
    "plt.show()\n",
    "\n",
    "print(\"\\n\")\n",
    "print(\"Population mean - Mean of sample means of amount spend for Male: {:.2f}\".format(np.mean(male_means)))\n",
    "print(\"Population mean - Mean of sample means of amount spend for Female: {:.2f}\".format(np.mean(female_means)))\n",
    "\n",
    "print(\"\\nMale - Sample mean: {:.2f} Sample std: {:.2f}\".format(male_df['Purchase'].mean(), male_df['Purchase'].std()))\n",
    "print(\"Female - Sample mean: {:.2f} Sample std: {:.2f}\".format(female_df['Purchase'].mean(), female_df['Purchase'].std()))"
   ]
  },
  {
   "cell_type": "code",
   "execution_count": null,
   "id": "de8c9dca-d3b8-421c-9c83-8b0e3179fedf",
   "metadata": {},
   "outputs": [],
   "source": [
    "male_margin_of_error_clt = 1.64*male_df['Purchase'].std()/np.sqrt(len(male_df))\n",
    "male_sample_mean = male_df['Purchase'].mean()\n",
    "male_lower_lim = male_sample_mean - male_margin_of_error_clt\n",
    "male_upper_lim = male_sample_mean + male_margin_of_error_clt\n",
    "\n",
    "female_margin_of_error_clt = 1.64*female_df['Purchase'].std()/np.sqrt(len(female_df))\n",
    "female_sample_mean = female_df['Purchase'].mean()\n",
    "female_lower_lim = female_sample_mean - female_margin_of_error_clt\n",
    "female_upper_lim = female_sample_mean + female_margin_of_error_clt\n",
    "\n",
    "print(\"Male confidence interval of means: ({:.2f}, {:.2f})\".format(male_lower_lim, male_upper_lim))\n",
    "print(\"Female confidence interval of means: ({:.2f}, {:.2f})\".format(female_lower_lim, female_upper_lim))"
   ]
  },
  {
   "cell_type": "code",
   "execution_count": null,
   "id": "5227791f-680f-4330-99c2-96f795b76dc2",
   "metadata": {},
   "outputs": [],
   "source": [
    "male_margin_of_error_clt = 1.96*male_df['Purchase'].std()/np.sqrt(len(male_df))\n",
    "male_sample_mean = male_df['Purchase'].mean()\n",
    "male_lower_lim = male_sample_mean - male_margin_of_error_clt\n",
    "male_upper_lim = male_sample_mean + male_margin_of_error_clt\n",
    "\n",
    "female_margin_of_error_clt = 1.96*female_df['Purchase'].std()/np.sqrt(len(female_df))\n",
    "female_sample_mean = female_df['Purchase'].mean()\n",
    "female_lower_lim = female_sample_mean - female_margin_of_error_clt\n",
    "female_upper_lim = female_sample_mean + female_margin_of_error_clt\n",
    "\n",
    "print(\"Male confidence interval of means: ({:.2f}, {:.2f})\".format(male_lower_lim, male_upper_lim))\n",
    "print(\"Female confidence interval of means: ({:.2f}, {:.2f})\".format(female_lower_lim, female_upper_lim))"
   ]
  },
  {
   "cell_type": "code",
   "execution_count": null,
   "id": "204b5e88-39b7-4762-9d2a-a89b24e9402a",
   "metadata": {},
   "outputs": [],
   "source": [
    "ale_margin_of_error_clt = 2.58*male_df['Purchase'].std()/np.sqrt(len(male_df))\n",
    "male_sample_mean = male_df['Purchase'].mean()\n",
    "male_lower_lim = male_sample_mean - male_margin_of_error_clt\n",
    "male_upper_lim = male_sample_mean + male_margin_of_error_clt\n",
    "\n",
    "female_margin_of_error_clt = 2.58*female_df['Purchase'].std()/np.sqrt(len(female_df))\n",
    "female_sample_mean = female_df['Purchase'].mean()\n",
    "female_lower_lim = female_sample_mean - female_margin_of_error_clt\n",
    "female_upper_lim = female_sample_mean + female_margin_of_error_clt\n",
    "\n",
    "print(\"Male confidence interval of means: ({:.2f}, {:.2f})\".format(male_lower_lim, male_upper_lim))\n",
    "print(\"Female confidence interval of means: ({:.2f}, {:.2f})\".format(female_lower_lim, female_upper_lim))"
   ]
  },
  {
   "cell_type": "markdown",
   "id": "35b9d846-abcb-4726-9231-749452710750",
   "metadata": {},
   "source": [
    "**3. Are confidence intervals of average male and female spending overlapping? How can Walmart leverage this conclusion to make changes or improvements?**\n",
    "\n"
   ]
  },
  {
   "cell_type": "markdown",
   "id": "0699a49a-8c5e-4037-8de0-b6b47c944fea",
   "metadata": {},
   "source": [
    "- The confidence intervals of average male and female spendings are not overlapping.\n",
    "- Walmart can leverage this problem by taking sample dataset and apply this to whole population dataset by performing Central Limit Theorem and Confidence Intervals of 90\\%, 95\\%, or 99\\% by playing around with the width parameter by reporting those observations to Walmart."
   ]
  },
  {
   "cell_type": "markdown",
   "id": "c6d07218-e289-411c-be0f-aca8ef1e5872",
   "metadata": {},
   "source": [
    "**4. Results when the same activity is performed for Married vs Unmarried**"
   ]
  },
  {
   "cell_type": "code",
   "execution_count": null,
   "id": "f42358d4-6002-4530-a34c-c2a7e6cab54d",
   "metadata": {},
   "outputs": [],
   "source": [
    "amt_df = XYZ_df.groupby(['User_ID', 'Marital_Status'])[['Purchase']].sum()\n",
    "avg_amt_df = amt_df.reset_index()\n",
    "avg_amt_df"
   ]
  },
  {
   "cell_type": "code",
   "execution_count": null,
   "id": "1e6b83e0-cbd9-4edf-8325-5504cb45e2cc",
   "metadata": {},
   "outputs": [],
   "source": [
    "avg_amt_df['Marital_Status'].value_counts()"
   ]
  },
  {
   "cell_type": "code",
   "execution_count": null,
   "id": "120e05ac-afa5-46ac-b36f-2ee71ff59b5a",
   "metadata": {},
   "outputs": [],
   "source": [
    "married_samp_size = 3000\n",
    "married_samp_size = 2000\n",
    "num_repitions = 1000\n",
    "married_means = []\n",
    "unmarried_means = []\n",
    "\n",
    "for _ in range(num_repitions):\n",
    "    married_mean = avg_amt_df[avg_amt_df['Marital_Status']==1].sample(married_samp_size, replace=True)['Purchase'].mean()\n",
    "    unmarried_mean = avg_amt_df[avg_amt_df['Marital_Status']==0].sample(married_samp_size, replace=True)['Purchase'].mean()\n",
    "    \n",
    "    married_means.append(married_mean)\n",
    "    unmarried_means.append(unmarried_mean)\n",
    "    \n",
    "    \n",
    "fig, axis = plt.subplots(nrows=1, ncols=2, figsize=(20, 6))\n",
    "\n",
    "axis[0].hist(married_means, bins=100)\n",
    "axis[1].hist(unmarried_means, bins=100)\n",
    "axis[0].set_title(\"Married - Distribution of means, Sample size: 3000\")\n",
    "axis[1].set_title(\"Unmarried - Distribution of means, Sample size: 2000\")\n",
    "\n",
    "plt.show()\n",
    "print(\"\\n\")\n",
    "print(\"Population mean - Mean of sample means of amount spend for Married: {:.2f}\".format(np.mean(married_means)))\n",
    "print(\"Population mean - Mean of sample means of amount spend for Unmarried: {:.2f}\".format(np.mean(unmarried_means)))\n",
    "\n",
    "print(\"\\nMarried - Sample mean: {:.2f} Sample std: {:.2f}\".format(avg_amt_df[avg_amt_df['Marital_Status']==1]['Purchase'].mean(), avg_amt_df[avg_amt_df['Marital_Status']==1]['Purchase'].std()))\n",
    "print(\"Unmarried - Sample mean: {:.2f} Sample std: {:.2f}\".format(avg_amt_df[avg_amt_df['Marital_Status']==0]['Purchase'].mean(), avg_amt_df[avg_amt_df['Marital_Status']==0]['Purchase'].std()))"
   ]
  },
  {
   "cell_type": "code",
   "execution_count": null,
   "id": "dbdb4896-60f2-4eea-86a5-f78680244203",
   "metadata": {},
   "outputs": [],
   "source": [
    "for val in [\"Married\", \"Unmarried\"]:\n",
    "    \n",
    "    new_val = 1 if val == \"Married\" else 0\n",
    "    \n",
    "    new_df = avg_amt_df[avg_amt_df['Marital_Status']==new_val] \n",
    "    \n",
    "    margin_of_error_clt = 1.64*new_df['Purchase'].std()/np.sqrt(len(new_df))\n",
    "    sample_mean = new_df['Purchase'].mean()\n",
    "    lower_lim = sample_mean - margin_of_error_clt\n",
    "    upper_lim = sample_mean + margin_of_error_clt\n",
    "\n",
    "    print(\"{} confidence interval of means: ({:.2f}, {:.2f})\".format(val, lower_lim, upper_lim))"
   ]
  },
  {
   "cell_type": "code",
   "execution_count": null,
   "id": "1f68950a-ac6a-44d8-b65f-b94612ac02d5",
   "metadata": {},
   "outputs": [],
   "source": [
    "for val in [\"Married\", \"Unmarried\"]:\n",
    "    \n",
    "    new_val = 1 if val == \"Married\" else 0\n",
    "    \n",
    "    new_df = avg_amt_df[avg_amt_df['Marital_Status']==new_val] \n",
    "    \n",
    "    margin_of_error_clt = 2.58*new_df['Purchase'].std()/np.sqrt(len(new_df))\n",
    "    sample_mean = new_df['Purchase'].mean()\n",
    "    lower_lim = sample_mean - margin_of_error_clt\n",
    "    upper_lim = sample_mean + margin_of_error_clt\n",
    "\n",
    "    print(\"{} confidence interval of means: ({:.2f}, {:.2f})\".format(val, lower_lim, upper_lim))"
   ]
  },
  {
   "cell_type": "markdown",
   "id": "6da151e7-166d-43c8-9cb9-10a38b499605",
   "metadata": {},
   "source": [
    "**5. Results when the same activity is performed for Age**"
   ]
  },
  {
   "cell_type": "markdown",
   "id": "fc43e88f-bfe3-4b5b-b6dc-33ba0bed5e3e",
   "metadata": {},
   "source": [
    "We will examine customer spending patterns across different age groups. By computing confidence intervals for each group, we can identify which age ranges spend more and assess variations in spending habits with statistical certainty."
   ]
  },
  {
   "cell_type": "code",
   "execution_count": null,
   "id": "9f97a1cc-faf5-4c3e-86e2-211d9d124f42",
   "metadata": {},
   "outputs": [],
   "source": [
    "amt_df = XYZ_df.groupby(['User_ID', 'Age'])[['Purchase']].sum()\n",
    "avg_amt_df = amt_df.reset_index()\n",
    "avg_amt_df"
   ]
  },
  {
   "cell_type": "code",
   "execution_count": null,
   "id": "0f86e5b3-a53d-477f-86b9-42b773f43937",
   "metadata": {},
   "outputs": [],
   "source": [
    "avg_amt_df['Age'].value_counts()"
   ]
  },
  {
   "cell_type": "code",
   "execution_count": null,
   "id": "1a67ef9f-f640-42e7-b5f0-f504da25bb26",
   "metadata": {},
   "outputs": [],
   "source": [
    "sample_size = 200\n",
    "num_repitions = 1000\n",
    "\n",
    "all_means = {}\n",
    "\n",
    "age_intervals = ['26-35', '36-45', '18-25', '46-50', '51-55', '55+', '0-17']\n",
    "for age_interval in age_intervals:\n",
    "    all_means[age_interval] = []\n",
    "\n",
    "for age_interval in age_intervals:\n",
    "    for _ in range(num_repitions):\n",
    "        mean = avg_amt_df[avg_amt_df['Age']==age_interval].sample(sample_size, replace=True)['Purchase'].mean()\n",
    "        all_means[age_interval].append(mean)"
   ]
  },
  {
   "cell_type": "markdown",
   "id": "f46f4cf0-d783-426c-9c38-bdce6952b80a",
   "metadata": {},
   "source": [
    "Now we can infer about the population that, 90\\% of the times"
   ]
  },
  {
   "cell_type": "code",
   "execution_count": null,
   "id": "620fa7b1-0054-4b94-80f3-8b0f1ce9f3b0",
   "metadata": {},
   "outputs": [],
   "source": [
    "for val in ['26-35', '36-45', '18-25', '46-50', '51-55', '55+', '0-17']:\n",
    "    \n",
    "    new_df = avg_amt_df[avg_amt_df['Age']==val] \n",
    "    \n",
    "    margin_of_error_clt = 1.64*new_df['Purchase'].std()/np.sqrt(len(new_df))\n",
    "    sample_mean = new_df['Purchase'].mean()\n",
    "    lower_lim = sample_mean - margin_of_error_clt\n",
    "    upper_lim = sample_mean + margin_of_error_clt\n",
    "    \n",
    "    print(\"For age {}, confidence interval of means: ({:.2f}, {:.2f})\".format(val, lower_lim, upper_lim))"
   ]
  },
  {
   "cell_type": "code",
   "execution_count": null,
   "id": "e78f662a-3bd4-41a5-b666-4d3a7a765b9b",
   "metadata": {},
   "outputs": [],
   "source": [
    "for val in ['26-35', '36-45', '18-25', '46-50', '51-55', '55+', '0-17']:\n",
    "    \n",
    "    new_df = avg_amt_df[avg_amt_df['Age']==val] \n",
    "    \n",
    "    margin_of_error_clt = 1.96*new_df['Purchase'].std()/np.sqrt(len(new_df))\n",
    "    sample_mean = new_df['Purchase'].mean()\n",
    "    lower_lim = sample_mean - margin_of_error_clt\n",
    "    upper_lim = sample_mean + margin_of_error_clt\n",
    "\n",
    "    print(\"For age {}, confidence interval of means: ({:.2f}, {:.2f})\".format(val, lower_lim, upper_lim))"
   ]
  },
  {
   "cell_type": "code",
   "execution_count": null,
   "id": "1f899641-1170-4072-8554-3752b63209dd",
   "metadata": {},
   "outputs": [],
   "source": [
    "for val in ['26-35', '36-45', '18-25', '46-50', '51-55', '55+', '0-17']:\n",
    "    \n",
    "    new_df = avg_amt_df[avg_amt_df['Age']==val] \n",
    "    \n",
    "    margin_of_error_clt = 2.58*new_df['Purchase'].std()/np.sqrt(len(new_df))\n",
    "    sample_mean = new_df['Purchase'].mean()\n",
    "    lower_lim = sample_mean - margin_of_error_clt\n",
    "    upper_lim = sample_mean + margin_of_error_clt\n",
    "\n",
    "    print(\"For age {}, confidence interval of means: ({:.2f}, {:.2f})\".format(val, lower_lim, upper_lim))"
   ]
  },
  {
   "cell_type": "markdown",
   "id": "c1541920-e9a5-4e56-9388-a4ed93139860",
   "metadata": {},
   "source": [
    "#### 7. Final Insights "
   ]
  },
  {
   "cell_type": "markdown",
   "id": "0e70c57f-a7b3-41b1-83ea-b16fdd7c357d",
   "metadata": {},
   "source": [
    "**After analyzing the data, we have gathered key insights about customer spending patterns based on age, gender, marital status, city category, and product categories.**"
   ]
  },
  {
   "cell_type": "markdown",
   "id": "87b6deee-a072-4206-8aad-336a7efd0ae2",
   "metadata": {},
   "source": [
    "***Actionable Insights***"
   ]
  },
  {
   "cell_type": "markdown",
   "id": "b9628d28-7507-4052-b8ac-8271f34e9e86",
   "metadata": {},
   "source": [
    "**Age Group Analysis**\n",
    "- Around **80\\% of customers aged 25-40** are the highest spenders.\n",
    "  - **26-35 years:** 40\\%  \n",
    "  - **18-25 years:** 18\\%  \n",
    "  - **36-45 years:** 20\\%  \n",
    "- This suggests that younger adults and middle-aged customers contribute the most to overall spending.\n",
    "\n",
    "**Gender-Based Spending Patterns**\n",
    "- **Male customers account for ~75\\% of total purchases**, while female customers contribute the remaining **25%**.\n",
    "- On average, **male consumers spend more than females** in the retail store. This is evident when analyzing the total purchase value:\n",
    "  - **Average amount spent by Male customers:** ₹9,25,408.28  \n",
    "  - **Average amount spent by Female customers:** ₹7,12,217.18  \n",
    "- This trend suggests that **male shoppers are the primary drivers of sales**.\n",
    "\n",
    "**Marital Status & Purchase Behavior**\n",
    "- When analyzing **marital status and purchase behavior**:\n",
    "  - **60% of buyers are Single**, while **40\\% are Married**.\n",
    "  - **Single men spend the most during Black Friday**, whereas spending decreases after marriage.\n",
    "  - This decline in spending among married men may be attributed to **increased financial responsibilities**.\n",
    "\n",
    "**Impact of Years Spent in the City**\n",
    "- The **Stay_In_Current_City_Years** feature reveals an interesting trend:\n",
    "  - **Customers who have lived in the city for 1 year tend to spend the most.**\n",
    "  - Possible explanation: **New residents are more likely to purchase household items and essentials**, whereas those who have lived in the city for over four years are **more settled and spend less on new purchases**.\n",
    "  - **Breakdown of spending by years in the city:**\n",
    "    - **1 year:** 35\\%  \n",
    "    - **2 years:** 18\\%  \n",
    "    - **3 years:** 17\\%  \n",
    "\n",
    "**City-Wise Purchasing Trends**\n",
    "- The **City_Category** feature reveals:\n",
    "  - **City B contributes the most to total sales revenue.**\n",
    "  - However, **for specific products, City C records higher purchase volumes**, which was unexpected.\n",
    "\n",
    "**Product Category Insights**\n",
    "- The dataset contains **20 different product categories**.\n",
    "- The **most frequently purchased categories** are:\n",
    "  - **Product Category 1, 5, 8, and 11**.\n",
    "\n",
    "**Occupational Distribution**\n",
    "- There are **20 distinct occupations** among customers in the city.\n",
    "\n"
   ]
  },
  {
   "cell_type": "markdown",
   "id": "9bbf153b-6933-41ef-b67b-5591e99a4885",
   "metadata": {},
   "source": [
    "#### Confidence Intervals "
   ]
  },
  {
   "cell_type": "markdown",
   "id": "ee3f6d13-154d-4668-8832-c5dea0967d53",
   "metadata": {},
   "source": [
    "**Central Limit Theorem and Confidence Intervals for the Population**\n",
    "\n",
    "**Average Spending by Gender**\n",
    "Using the Central Limit Theorem, we can estimate the confidence intervals for the average spending by male and female customers.\n",
    "\n",
    "- **Average amount spent by male customers:** ₹9,25,408.28  \n",
    "- **Average amount spent by female customers:** ₹7,12,217.18  \n",
    "\n",
    "**\\90% Confidence Interval**\n",
    "- Male: **(₹900,471.15, ₹950,217.65)**\n",
    "- Female: **(₹679,584.51, ₹744,464.28)**\n",
    "\n",
    "**95% Confidence Interval**\n",
    "- Male: **(₹895,617.83, ₹955,070.97)**\n",
    "- Female: **(₹673,254.77, ₹750,794.02)**\n",
    "\n",
    "**99% Confidence Interval**\n",
    "- Male: **(₹886,214.53, ₹964,474.27)**\n",
    "- Female: **(₹660,990.91, ₹763,057.88)**\n",
    "\n",
    "---\n",
    "\n",
    "**Confidence Interval by Marital Status**\n",
    "### **90\\% Confidence Interval**\n",
    "- **Married:** (₹812,686.46, ₹874,367.13)  \n",
    "- **Unmarried:** (₹853,938.67, ₹907,212.90)  \n",
    "\n",
    "**95\\% Confidence Interval**\n",
    "- **Married:** (₹806,668.83, ₹880,384.76)  \n",
    "- **Unmarried:** (₹848,741.18, ₹912,410.38)  \n",
    "\n",
    "**99\\% Confidence Interval**\n",
    "- **Married:** (₹795,009.68, ₹892,043.91)  \n",
    "- **Unmarried:** (₹838,671.05, ₹922,480.51)  \n",
    "\n",
    "---\n",
    "\n",
    "**Confidence Interval by Age Group**\n",
    "### **90\\% Confidence Interval**\n",
    "- **Age 26-35:** (₹952,320.12, ₹1,026,998.51)  \n",
    "- **Age 36-45:** (₹832,542.56, ₹926,788.86)  \n",
    "- **Age 18-25:** (₹810,323.44, ₹899,402.80)  \n",
    "- **Age 46-50:** (₹726,410.64, ₹858,686.93)  \n",
    "- **Age 51-55:** (₹703,953.00, ₹822,448.85)  \n",
    "- **Age 55+:** (₹487,192.99, ₹592,201.50)  \n",
    "- **Age 0-17:** (₹542,553.13, ₹695,182.50)  \n",
    "\n",
    "**95\\% Confidence Interval**\n",
    "- **Age 26-35:** (₹945,034.42, ₹1,034,284.21)  \n",
    "- **Age 36-45:** (₹823,347.80, ₹935,983.62)  \n",
    "- **Age 18-25:** (₹801,632.78, ₹908,093.46)  \n",
    "- **Age 46-50:** (₹713,505.63, ₹871,591.93)  \n",
    "- **Age 51-55:** (₹692,392.43, ₹834,009.42)  \n",
    "- **Age 55+:** (₹476,948.26, ₹602,446.23)  \n",
    "- **Age 0-17:** (₹527,662.46, ₹710,073.17)  \n",
    "\n",
    "**99\\% Confidence Interval**\n",
    "- **Age 26-35:** (₹930,918.39, ₹1,048,400.25)  \n",
    "- **Age 36-45:** (₹805,532.95, ₹953,798.47)  \n",
    "- **Age 18-25:** (₹784,794.60, ₹924,931.63)  \n",
    "- **Age 46-50:** (₹688,502.19, ₹896,595.37)  \n",
    "- **Age 51-55:** (₹669,993.82, ₹856,408.03)  \n",
    "- **Age 55+:** (₹457,099.09, ₹622,295.40)  \n",
    "- **Age 0-17:** (₹498,811.78, ₹738,923.84)  \n"
   ]
  },
  {
   "cell_type": "markdown",
   "id": "48d548d7-8eae-4365-8f29-fdf44db1d6c4",
   "metadata": {},
   "source": [
    "#### 8. Recommendations "
   ]
  },
  {
   "cell_type": "markdown",
   "id": "392948b4-cd21-414a-82ad-ac2795e33a61",
   "metadata": {},
   "source": [
    "1. **Men** spent more money than women, So company should focus on retaining the female customers and getting more female customers.\n",
    "\n",
    "2. **Product_Category - 1, 5, 8, & 11** have highest purchasing frequency. it means these are the products in these categories are liked more by customers. Company can focus on selling more of these products or selling more of the products which are purchased less.\n",
    "\n",
    "3. **Unmarried** customers spend more money than married customers, So company should focus on acquisition of married customers.\n",
    "\n",
    "4. Customers in the **age 25-40** spend more money than the others, So company should focus on acquisition of customers of other age groups.\n",
    "\n",
    "5. The tier-2 city called **B** has the highest number of population, management should open more outlets in the tier-1 and tier-2 cities like A and C in order to increase the buisness."
   ]
  },
  {
   "cell_type": "code",
   "execution_count": null,
   "id": "3f93ed91-33cd-4d71-8d9d-f29216f615cd",
   "metadata": {},
   "outputs": [],
   "source": []
  }
 ],
 "metadata": {
  "kernelspec": {
   "display_name": "Python 3 (ipykernel)",
   "language": "python",
   "name": "python3"
  },
  "language_info": {
   "codemirror_mode": {
    "name": "ipython",
    "version": 3
   },
   "file_extension": ".py",
   "mimetype": "text/x-python",
   "name": "python",
   "nbconvert_exporter": "python",
   "pygments_lexer": "ipython3",
   "version": "3.13.2"
  }
 },
 "nbformat": 4,
 "nbformat_minor": 5
}
